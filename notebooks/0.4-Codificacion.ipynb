{
 "cells": [
  {
   "cell_type": "markdown",
   "metadata": {},
   "source": [
    "## Codificacion de estos datos\n",
    "\n",
    "No todos nuestros datos contaran con un sencillo \"nan\" en nuestras filas, en ocaciones contaremos con otras formas de representar los datos faltantes que no reconocera pandas y lo tomara como un dato. Dato Erroneo :("
   ]
  },
  {
   "cell_type": "code",
   "execution_count": 1,
   "metadata": {},
   "outputs": [
    {
     "name": "stdout",
     "output_type": "stream",
     "text": [
      "The autoreload extension is already loaded. To reload it, use:\n",
      "  %reload_ext autoreload\n",
      "The autoreload extension is already loaded. To reload it, use:\n",
      "  %reload_ext autoreload\n",
      "The autoreload extension is already loaded. To reload it, use:\n",
      "  %reload_ext autoreload\n"
     ]
    }
   ],
   "source": [
    "%run 0.1-dataset.ipynb\n",
    "%run pandas-API.ipynb"
   ]
  },
  {
   "cell_type": "code",
   "execution_count": 25,
   "metadata": {},
   "outputs": [],
   "source": [
    "common_na_strings = [\n",
    "    \"missing\",\n",
    "    \"NA\",\n",
    "    \"N A\",\n",
    "    \"N/A\",\n",
    "    \"#N/A\",\n",
    "    \"NA \",\n",
    "    \" NA\",\n",
    "    \"N /A\",\n",
    "    \"N / A\",\n",
    "    \" N / A\",\n",
    "    \"N / A \",\n",
    "    \"na\",\n",
    "    \"n a\",\n",
    "    \"n/a\",\n",
    "    \"na \",\n",
    "    \" na\",\n",
    "    \"n /a\",\n",
    "    \"n / a\",\n",
    "    \" a / a\",\n",
    "    \"n / a \",\n",
    "    \"NULL\",\n",
    "    \"null\",\n",
    "    \"\",\n",
    "    \"?\",\n",
    "    \"*\",\n",
    "    \".\",\n",
    "]"
   ]
  },
  {
   "cell_type": "code",
   "execution_count": 28,
   "metadata": {},
   "outputs": [
    {
     "data": {
      "text/plain": [
       "63731"
      ]
     },
     "execution_count": 28,
     "metadata": {},
     "output_type": "execute_result"
    }
   ],
   "source": [
    "#Valores faltantes: \n",
    "datos.missing.number_missing()"
   ]
  },
  {
   "cell_type": "code",
   "execution_count": 32,
   "metadata": {},
   "outputs": [
    {
     "data": {
      "text/plain": [
       "estoy_trabajando_en                                          object\n",
       "donde_estas_trabajando                                       object\n",
       "dedicacion                                                   object\n",
       "tipo_de_contrato                                             object\n",
       "ultimo_salario_mensual_o_retiro_bruto_en_tu_moneda_local    float64\n",
       "ultimo_salario_mensual_o_retiro_neto_en_tu_moneda_local      object\n",
       "pagos_en_dolares                                             object\n",
       "dolarizado_cual_fue_el_ultimo_valor                          object\n",
       "pagos_en_criptomonedas                                       object\n",
       "que_porcentaje_o_monto_recibis_en_criptomonedas              object\n",
       "recibis_algun_tipo_de_bono                                   object\n",
       "a_que_esta_atado_el_bono                                     object\n",
       "actualizaciones_de_tus_ingresos_laborales_durante_2022       object\n",
       "de_que_fue_el_ajuste_total_acumulado                        float64\n",
       "en_que_mes_fue_el_ultimo_ajuste                              object\n",
       "ingresos_laborales_comparados_con_el_semestre_anterior        int64\n",
       "con_que_beneficios_contas                                    object\n",
       "que_tan_conforme_estas_con_tus_ingresos_laborales             int64\n",
       "estas_buscando_trabajo                                       object\n",
       "trabajo_de                                                   object\n",
       "anos_de_experiencia                                         float64\n",
       "antigüedad_en_la_empresa_actual                             float64\n",
       "tiempo_en_el_puesto_actual                                  float64\n",
       "cuantas_personas_a_cargo_tenes                                int64\n",
       "plataformas_que_utilizas_en_tu_puesto_actual                 object\n",
       "lenguajes_de_programacion_o_tecnologias_que_utilices         object\n",
       "frameworksherramientas_y_librerias_que_utilices              object\n",
       "bases_de_datos                                               object\n",
       "qa_testing                                                   object\n",
       "cantidad_de_personas_en_tu_organizacion                      object\n",
       "modalidad_de_trabajo                                         object\n",
       "si_trabajas_hibrido_cuantos_dias_a_la_semana_vas              int64\n",
       "la_recomendas_como_un_buen_lugar_para_trabajar                int64\n",
       "salir_o_seguir_contestando                                   object\n",
       "maximo_nivel_de_estudios                                     object\n",
       "estado                                                       object\n",
       "carrera                                                      object\n",
       "universidad                                                  object\n",
       "participaste_de_algun_boot_camp                              object\n",
       "si_participaste_de_un_boot_campque_carrera_estudiaste        object\n",
       "salir_o_seguir_contestando_sobre_las_guardias                object\n",
       "tenes_guardias                                               object\n",
       "cuanto_cobras_por_guardia                                   float64\n",
       "porcentajebruto_o_neto                                       object\n",
       "salir_o_seguir_contestando_sobre_estudios                    object\n",
       "tengo_edad                                                    int64\n",
       "me_identifico_genero                                         object\n",
       "sueldo_dolarizado                                              bool\n",
       "seniority                                                    object\n",
       "me_id_extra                                                  object\n",
       "dtype: object"
      ]
     },
     "execution_count": 32,
     "metadata": {},
     "output_type": "execute_result"
    }
   ],
   "source": [
    "datos.dtypes"
   ]
  },
  {
   "cell_type": "markdown",
   "metadata": {},
   "source": [
    " Sustituimos globalmente para todas nuestras variables, afortunadamente no habian muchos datos pasando de tener 63731 datos faltantes a 63746."
   ]
  },
  {
   "cell_type": "code",
   "execution_count": 29,
   "metadata": {},
   "outputs": [],
   "source": [
    "#SUSTITUCION GLOBAL\n",
    "datos_sustituidos = (\n",
    "    datos\n",
    "    .replace(\n",
    "        to_replace= common_na_strings,\n",
    "        value = np.nan\n",
    "    )\n",
    ")"
   ]
  },
  {
   "cell_type": "code",
   "execution_count": 31,
   "metadata": {},
   "outputs": [
    {
     "data": {
      "text/plain": [
       "63746"
      ]
     },
     "execution_count": 31,
     "metadata": {},
     "output_type": "execute_result"
    }
   ],
   "source": [
    "datos_sustituidos.missing.number_missing()"
   ]
  },
  {
   "cell_type": "markdown",
   "metadata": {},
   "source": [
    "### Datos Faltantes implicitos\n",
    " Despues de experimentar con nuestro data set y realizar algunas pruebas, no se encontro datos implicitos que se puedan mostrar.\n",
    "\n",
    "Un valor faltante implícito indica que el valor faltante debería estar incluido en el conjunto de datos del análisis, sin que éste lo diga o lo especifique. Por lo general, son valores que podemos encontrar al pivotar nuestros datos o contabilizar el número de apariciones de combinaciones de las variables de estudio.\n"
   ]
  }
 ],
 "metadata": {
  "kernelspec": {
   "display_name": "datitos_faltantes",
   "language": "python",
   "name": "python3"
  },
  "language_info": {
   "codemirror_mode": {
    "name": "ipython",
    "version": 3
   },
   "file_extension": ".py",
   "mimetype": "text/x-python",
   "name": "python",
   "nbconvert_exporter": "python",
   "pygments_lexer": "ipython3",
   "version": "3.9.18"
  }
 },
 "nbformat": 4,
 "nbformat_minor": 2
}
