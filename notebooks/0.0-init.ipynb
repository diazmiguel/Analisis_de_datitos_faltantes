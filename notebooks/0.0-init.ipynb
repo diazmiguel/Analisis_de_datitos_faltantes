{
 "cells": [
  {
   "cell_type": "markdown",
   "metadata": {},
   "source": [
    "# Proyecto del Curso de Manejo de Datos Faltantes: Detección y Exploración\n",
    "\n",
    " ![imagen](../reports/figures/LogitoCursoDatosFaltantes.png)\n",
    " \n",
    " Proyecto de Data Sciencie para poner en practica la manipulacion de datitos faltantes en nuestro dataset \"Encuesta de Remuneracion salarial Argentina\".\n",
    " Intentaremos aplicar todo lo que se aprendio del curso, y manipular esos datitos para encontrar patrones o conclusiones.\n",
    " Tambien se aplica lo aprendido en el Curso de Configuración Profesional de Entorno para Ciencia de Datos con cookieccutter.\n"
   ]
  },
  {
   "cell_type": "code",
   "execution_count": 7,
   "metadata": {},
   "outputs": [
    {
     "name": "stdout",
     "output_type": "stream",
     "text": [
      "The autoreload extension is already loaded. To reload it, use:\n",
      "  %reload_ext autoreload\n"
     ]
    }
   ],
   "source": [
    "#Para recargar automaticamente el modulo\n",
    "%load_ext autoreload\n",
    "%autoreload 2"
   ]
  },
  {
   "cell_type": "code",
   "execution_count": 8,
   "metadata": {},
   "outputs": [],
   "source": [
    "#Importamos librerias\n",
    "import janitor\n",
    "import matplotlib.pyplot as plt\n",
    "import missingno\n",
    "import numpy as np\n",
    "import pandas as pd\n",
    "import pyreadr\n",
    "import seaborn as sns\n",
    "import session_info\n",
    "import upsetplot"
   ]
  },
  {
   "cell_type": "code",
   "execution_count": 9,
   "metadata": {},
   "outputs": [],
   "source": [
    "#Configuracion de graficas para mostrar\n",
    "%matplotlib inline\n",
    "\n",
    "sns.set(\n",
    "    rc={\n",
    "        \"figure.figsize\": (10, 10)\n",
    "    }\n",
    ")\n",
    "\n",
    "sns.set_style(\"whitegrid\")"
   ]
  }
 ],
 "metadata": {
  "kernelspec": {
   "display_name": "datitos_faltantes",
   "language": "python",
   "name": "python3"
  },
  "language_info": {
   "codemirror_mode": {
    "name": "ipython",
    "version": 3
   },
   "file_extension": ".py",
   "mimetype": "text/x-python",
   "name": "python",
   "nbconvert_exporter": "python",
   "pygments_lexer": "ipython3",
   "version": "3.9.18"
  }
 },
 "nbformat": 4,
 "nbformat_minor": 2
}
